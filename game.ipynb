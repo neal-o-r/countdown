{
 "cells": [
  {
   "cell_type": "code",
   "execution_count": 1,
   "metadata": {},
   "outputs": [],
   "source": [
    "import number\n",
    "import letters\n",
    "import time\n",
    "import subprocess\n",
    "import os\n",
    "import game"
   ]
  },
  {
   "cell_type": "code",
   "execution_count": 2,
   "metadata": {},
   "outputs": [],
   "source": [
    "scores = [0, 0, 0]"
   ]
  },
  {
   "cell_type": "code",
   "execution_count": 3,
   "metadata": {
    "scrolled": false
   },
   "outputs": [
    {
     "name": "stdout",
     "output_type": "stream",
     "text": [
      "\n",
      "-------\n",
      "\n",
      "Letters Round\n",
      "How many vowels?\n",
      "4\n",
      "And you get 5 consonants\n",
      "Your Letters Are:\n",
      "\n",
      "L A I Y R A E T N\n",
      "TIME'S UP\n",
      "\n",
      "Player 1 type your word:\n",
      "train\n",
      "Good word! - Score: 5 \n",
      "\n",
      "Player 2 type your word:\n",
      "trail\n",
      "Good word! - Score: 5 \n",
      "\n",
      "Player 3 type your word:\n",
      "retail\n",
      "Good word! - Score: 6 \n",
      "\n",
      "\n",
      "The best words are:\n",
      "interlay - inlayer - laniary - anality - irately\n",
      "PLAYER 1 SCORE: 0 ---- PLAYER 2 SCORE: 0 ---- PLAYER 3 SCORE: 6\n",
      "\n",
      "\n",
      "\n",
      "-------\n",
      "\n",
      "Letters Round\n",
      "How many vowels?\n",
      "4\n",
      "And you get 5 consonants\n",
      "Your Letters Are:\n",
      "\n",
      "A S M I U T S I R\n",
      "TIME'S UP\n",
      "\n",
      "Player 1 type your word:\n",
      "stars\n",
      "Good word! - Score: 5 \n",
      "\n",
      "Player 2 type your word:\n",
      "mist\n",
      "Good word! - Score: 4 \n",
      "\n",
      "Player 3 type your word:\n",
      "tirimasus\n",
      "Not a word - Score: 0 \n",
      "\n",
      "\n",
      "The best words are:\n",
      "tiramisu - simitars - strumas - simitar - atriums\n",
      "PLAYER 1 SCORE: 5 ---- PLAYER 2 SCORE: 0 ---- PLAYER 3 SCORE: 6\n",
      "\n",
      "\n",
      "\n",
      "-------\n",
      "\n",
      "Numbers Round\n",
      "How many small?\n",
      "4\n",
      "The numbers are: 1-5-5-2-75-75\n",
      "The target is: 680\n",
      "\n",
      "TIME'S UP\n",
      "\n",
      "Player 1 type your calculation or number:\n",
      "0\n",
      "This is: 0\n",
      "You score: 0\n",
      "Player 2 type your calculation or number:\n",
      "(75 * 5)*2 - 75 + 5\n",
      "This is: 680\n",
      "You score: 10\n",
      "Player 3 type your calculation or number:\n",
      "680\n",
      "This is: 680\n",
      "You score: 10\n",
      "\n",
      "Solution: ((((2 * 5) - 1) * 75) + 5)\n",
      "\n",
      "PLAYER 1 SCORE: 5 ---- PLAYER 2 SCORE: 10 ---- PLAYER 3 SCORE: 16\n",
      "\n",
      "\n"
     ]
    }
   ],
   "source": [
    "scores = game.play_section(scores)"
   ]
  },
  {
   "cell_type": "code",
   "execution_count": 4,
   "metadata": {},
   "outputs": [
    {
     "name": "stdout",
     "output_type": "stream",
     "text": [
      "\n",
      "-------\n",
      "\n",
      "Letters Round\n",
      "How many vowels?\n",
      "3\n",
      "And you get 6 consonants\n",
      "Your Letters Are:\n",
      "\n",
      "I O Y T H A L D T\n",
      "TIME'S UP\n",
      "\n",
      "Player 1 type your word:\n",
      "load\n",
      "Good word! - Score: 4 \n",
      "\n",
      "Player 2 type your word:\n",
      "halt\n",
      "Good word! - Score: 4 \n",
      "\n",
      "Player 3 type your word:\n",
      "ditto\n",
      "Good word! - Score: 5 \n",
      "\n",
      "\n",
      "The best words are:\n",
      "holiday - hyaloid - hyoidal - dottily - daylit\n",
      "PLAYER 1 SCORE: 5 ---- PLAYER 2 SCORE: 10 ---- PLAYER 3 SCORE: 21\n",
      "\n",
      "\n",
      "\n",
      "-------\n",
      "\n",
      "Letters Round\n",
      "How many vowels?\n",
      "4\n",
      "And you get 5 consonants\n",
      "Your Letters Are:\n",
      "\n",
      "L H Y O Y A E O H\n",
      "TIME'S UP\n",
      "\n",
      "Player 1 type your word:\n",
      "holey\n",
      "Good word! - Score: 5 \n",
      "\n",
      "Player 2 type your word:\n",
      "halo\n",
      "Good word! - Score: 4 \n",
      "\n",
      "Player 3 type your word:\n",
      "hole\n",
      "Good word! - Score: 4 \n",
      "\n",
      "\n",
      "The best words are:\n",
      "hooey - hooly - haole - holey - hoyle\n",
      "PLAYER 1 SCORE: 10 ---- PLAYER 2 SCORE: 10 ---- PLAYER 3 SCORE: 21\n",
      "\n",
      "\n",
      "\n",
      "-------\n",
      "\n",
      "Numbers Round\n",
      "How many small?\n",
      "5\n",
      "The numbers are: 9-4-9-1-9-75\n",
      "The target is: 547\n",
      "\n",
      "TIME'S UP\n",
      "\n",
      "Player 1 type your calculation or number:\n",
      "(9 - 1) * 75 - (9 * 4) - 9\n",
      "This is: 555\n",
      "You score: 5\n",
      "Player 2 type your calculation or number:\n",
      "0\n",
      "This is: 0\n",
      "You score: 0\n",
      "Player 3 type your calculation or number:\n",
      "0\n",
      "This is: 0\n",
      "You score: 0\n",
      "\n",
      "Solution: \n",
      "\n",
      "PLAYER 1 SCORE: 15 ---- PLAYER 2 SCORE: 10 ---- PLAYER 3 SCORE: 21\n",
      "\n",
      "\n"
     ]
    }
   ],
   "source": [
    "scores = game.play_section(scores)"
   ]
  },
  {
   "cell_type": "code",
   "execution_count": 5,
   "metadata": {},
   "outputs": [
    {
     "name": "stdout",
     "output_type": "stream",
     "text": [
      "\n",
      "-------\n",
      "\n",
      "Letters Round\n",
      "How many vowels?\n",
      "3\n",
      "And you get 6 consonants\n",
      "Your Letters Are:\n",
      "\n",
      "S E T R A W N S O\n",
      "TIME'S UP\n",
      "\n",
      "Player 1 type your word:\n",
      "waster\n",
      "Good word! - Score: 6 \n",
      "\n",
      "Player 2 type your word:\n",
      "straws\n",
      "Good word! - Score: 6 \n",
      "\n",
      "Player 3 type your word:\n",
      "strewn\n",
      "Good word! - Score: 6 \n",
      "\n",
      "\n",
      "The best words are:\n",
      "assentor - senators - starnose - treasons - worsets\n",
      "PLAYER 1 SCORE: 21 ---- PLAYER 2 SCORE: 16 ---- PLAYER 3 SCORE: 27\n",
      "\n",
      "\n",
      "\n",
      "-------\n",
      "\n",
      "Letters Round\n",
      "How many vowels?\n",
      "4\n",
      "And you get 5 consonants\n",
      "Your Letters Are:\n",
      "\n",
      "A E Y W O T L I S\n",
      "TIME'S UP\n",
      "\n",
      "Player 1 type your word:\n",
      "stole\n",
      "Good word! - Score: 5 \n",
      "\n",
      "Player 2 type your word:\n",
      "wails\n",
      "Good word! - Score: 5 \n",
      "\n",
      "Player 3 type your word:\n",
      "lowest\n",
      "Good word! - Score: 6 \n",
      "\n",
      "\n",
      "The best words are:\n",
      "sweatily - oilways - isolate - lysate - slatey\n",
      "PLAYER 1 SCORE: 21 ---- PLAYER 2 SCORE: 16 ---- PLAYER 3 SCORE: 33\n",
      "\n",
      "\n",
      "\n",
      "-------\n",
      "\n",
      "Numbers Round\n",
      "How many small?\n",
      "4\n",
      "The numbers are: 7-1-3-7-75-50\n",
      "The target is: 837\n",
      "\n",
      "TIME'S UP\n",
      "\n",
      "Player 1 type your calculation or number:\n",
      "0\n",
      "This is: 0\n",
      "You score: 0\n",
      "Player 2 type your calculation or number:\n",
      "0\n",
      "This is: 0\n",
      "You score: 0\n",
      "Player 3 type your calculation or number:\n",
      "0\n",
      "This is: 0\n",
      "You score: 0\n",
      "\n",
      "Solution: \n",
      "\n",
      "PLAYER 1 SCORE: 21 ---- PLAYER 2 SCORE: 16 ---- PLAYER 3 SCORE: 33\n",
      "\n",
      "\n"
     ]
    }
   ],
   "source": [
    "scores = game.play_section(scores)"
   ]
  },
  {
   "cell_type": "code",
   "execution_count": 13,
   "metadata": {},
   "outputs": [],
   "source": [
    "def con():\n",
    "    w4, w5, c = next(letters.conundrums())\n",
    "    print(w4, w5)\n",
    "    game.countdown()\n",
    "    return c"
   ]
  },
  {
   "cell_type": "code",
   "execution_count": 31,
   "metadata": {},
   "outputs": [
    {
     "name": "stdout",
     "output_type": "stream",
     "text": [
      "rods ember\n",
      "TIME'S UP\n",
      "\n"
     ]
    }
   ],
   "source": [
    "w = con()"
   ]
  },
  {
   "cell_type": "code",
   "execution_count": 9,
   "metadata": {},
   "outputs": [
    {
     "data": {
      "text/plain": [
       "('dire', 'spall', 'spiralled')"
      ]
     },
     "execution_count": 9,
     "metadata": {},
     "output_type": "execute_result"
    }
   ],
   "source": [
    "w4, w5, c = next(letters.conundrums())\n",
    "w4, w5, c"
   ]
  },
  {
   "cell_type": "code",
   "execution_count": null,
   "metadata": {},
   "outputs": [],
   "source": []
  },
  {
   "cell_type": "code",
   "execution_count": null,
   "metadata": {},
   "outputs": [],
   "source": []
  },
  {
   "cell_type": "code",
   "execution_count": null,
   "metadata": {},
   "outputs": [],
   "source": []
  },
  {
   "cell_type": "code",
   "execution_count": null,
   "metadata": {},
   "outputs": [],
   "source": []
  },
  {
   "cell_type": "code",
   "execution_count": null,
   "metadata": {},
   "outputs": [],
   "source": []
  },
  {
   "cell_type": "code",
   "execution_count": null,
   "metadata": {},
   "outputs": [],
   "source": []
  },
  {
   "cell_type": "code",
   "execution_count": null,
   "metadata": {},
   "outputs": [],
   "source": []
  },
  {
   "cell_type": "code",
   "execution_count": null,
   "metadata": {},
   "outputs": [],
   "source": []
  },
  {
   "cell_type": "code",
   "execution_count": null,
   "metadata": {},
   "outputs": [],
   "source": []
  },
  {
   "cell_type": "code",
   "execution_count": 10,
   "metadata": {},
   "outputs": [
    {
     "name": "stdout",
     "output_type": "stream",
     "text": [
      "dire spall\n",
      "TIME'S UP\n",
      "\n"
     ]
    }
   ],
   "source": [
    "print(w4, w5)\n",
    "game.countdown()"
   ]
  },
  {
   "cell_type": "code",
   "execution_count": 11,
   "metadata": {},
   "outputs": [
    {
     "data": {
      "text/plain": [
       "'spiralled'"
      ]
     },
     "execution_count": 11,
     "metadata": {},
     "output_type": "execute_result"
    }
   ],
   "source": [
    "c"
   ]
  },
  {
   "cell_type": "code",
   "execution_count": 16,
   "metadata": {},
   "outputs": [
    {
     "name": "stdout",
     "output_type": "stream",
     "text": [
      "fuel swans\n",
      "TIME'S UP\n",
      "\n"
     ]
    }
   ],
   "source": [
    "w = con()"
   ]
  },
  {
   "cell_type": "code",
   "execution_count": 15,
   "metadata": {},
   "outputs": [
    {
     "data": {
      "text/plain": [
       "'packhorse'"
      ]
     },
     "execution_count": 15,
     "metadata": {},
     "output_type": "execute_result"
    }
   ],
   "source": [
    "w"
   ]
  },
  {
   "cell_type": "code",
   "execution_count": null,
   "metadata": {},
   "outputs": [],
   "source": []
  }
 ],
 "metadata": {
  "kernelspec": {
   "display_name": "Python 3",
   "language": "python",
   "name": "python3"
  },
  "language_info": {
   "codemirror_mode": {
    "name": "ipython",
    "version": 3
   },
   "file_extension": ".py",
   "mimetype": "text/x-python",
   "name": "python",
   "nbconvert_exporter": "python",
   "pygments_lexer": "ipython3",
   "version": "3.7.3"
  }
 },
 "nbformat": 4,
 "nbformat_minor": 2
}
